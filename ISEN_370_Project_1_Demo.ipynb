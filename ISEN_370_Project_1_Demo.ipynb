{
  "nbformat": 4,
  "nbformat_minor": 0,
  "metadata": {
    "colab": {
      "name": "ISEN 370 Project 1 Demo.ipynb",
      "provenance": [],
      "authorship_tag": "ABX9TyPI3lPqSV9B1dXVfS6XM7aX",
      "include_colab_link": true
    },
    "kernelspec": {
      "name": "python3",
      "display_name": "Python 3"
    },
    "language_info": {
      "name": "python"
    }
  },
  "cells": [
    {
      "cell_type": "markdown",
      "metadata": {
        "id": "view-in-github",
        "colab_type": "text"
      },
      "source": [
        "<a href=\"https://colab.research.google.com/github/StevenXJiang/DataScienceModule1/blob/main/ISEN_370_Project_1_Demo.ipynb\" target=\"_parent\"><img src=\"https://colab.research.google.com/assets/colab-badge.svg\" alt=\"Open In Colab\"/></a>"
      ]
    },
    {
      "cell_type": "markdown",
      "metadata": {
        "id": "ORIRg6IK6lqT"
      },
      "source": [
        "# ISEN 370 Project 1 Demonstration \n",
        "In this demo, you will be shown how to use data science tools to build basic statistics for a Smart City Building dataset.\n"
      ]
    },
    {
      "cell_type": "markdown",
      "source": [
        "#Import Libraries\n",
        "A Python library is a set of modules that are related. Each module contains bundles of code that can be used repeatably. It allows you program with more ease and convenience. "
      ],
      "metadata": {
        "id": "T_gq9ZpVVp4P"
      }
    },
    {
      "cell_type": "markdown",
      "source": [
        "##Common libraries that you may need to use in this course\n",
        "###numpy\n",
        "NumPy stands for ‘numerical Python’ and is an open source library for Python that provides operations of multi-dimensional arrays and various mathematical functions including basic linear algebra, random simulation, Fourier transforms, trigonometric operations, and statistical operations.\n",
        "NumPy is the base for libraries such as Pandas, Scikit-learn, and SciPy. \n",
        "\n",
        "###pandas\n",
        "\n",
        "Pandas, built on Numpy, is widely used for data science/data analysis and machine learning tasks. It is one of the most popular data wrangling packages.\n",
        "\n",
        "###matplotlib\n",
        "Matplotlib is a data visualization and graphical plotting library for Python and its numerical extension NumPy. It offers a viable open source alternative to MATLAB. \n",
        "\n",
        "##Use of libraries\n",
        "Libraries in Python is used for modularity. The mostly used functions are written in modules and can be imported in a program wherever there is a requirement.  Multiple interrelated modules are stored in a library. We can import a module from its library whenever we need to use it. In Python, the syntax is to use import.\n",
        "### Examples\n",
        "import numpy as np <br>\n",
        "import pandas as pd <br>\n",
        "import matplotlib.pyplot as plt\n"
      ],
      "metadata": {
        "id": "xibT8ajFWhge"
      }
    },
    {
      "cell_type": "markdown",
      "source": [
        "In project 1, you will need to use three libraries: numpy, pandas, and matplotlib"
      ],
      "metadata": {
        "id": "ICqQWGTSgb5W"
      }
    },
    {
      "cell_type": "code",
      "source": [
        "import numpy as np\n",
        "import pandas as pd\n",
        "import matplotlib.pyplot as plt"
      ],
      "metadata": {
        "id": "D5tb5R6Qz1Ve"
      },
      "execution_count": null,
      "outputs": []
    },
    {
      "cell_type": "markdown",
      "metadata": {
        "id": "3qsXYkC_6_r-"
      },
      "source": [
        "## Data Import\n",
        "\n",
        "In Python, you can import datasets in various format. To import a comma separated values (.csv) file, we can use read_csv() function in pandas to retrive data in the form of a dataframe.<br>\n",
        "A Data frame is a two-dimensional data structure, i.e., data is aligned in a tabular fashion in rows and columns.<br>\n",
        "\n",
        "\n",
        "Syntax: pandas.read_csv(filepath_or_buffer, sep=’ ,’ , header=’infer’,  index_col=None, usecols=None, engine=None, skiprows=None, nrows=None) <br>\n",
        "\n",
        "Parameters: <br>\n",
        "\n",
        "filepath_or_buffer: location of the file. It accepts any string path or URL of the file.<br><br>\n",
        "sep: separator, default is ',' as in CSV(comma separated values). <br><br>\n",
        "header: accepts int, a list of int, row numbers to use as the column names, and the start of the data. By default, header=None, then,  it will display the first column as 0, the second as 1, and so on.<br><br>\n",
        "usecols: retrieve only selected columns from the CSV file.<br><br>\n",
        "nrows: a number of rows to be displayed from the dataset.<br><br>\n",
        "index_col: If None, there are no index numbers displayed along with records.  \n",
        "skiprows: Skips passed rows in the new data frame.<br><br>\n",
        "\n",
        "\n",
        "##Example:\n",
        "data_url='https://raw.githubusercontent.com/StevenXJiang/ISEN370/main/VU_Building_Data_for_ISEN370_Spr_2020.csv?token=ATX4K2JD7Q2UQAH4KW5VFJTAPW3LQ'\n",
        "<br>\n",
        "data=pd.read_csv(data_url)\n",
        "\n",
        "#Demo project\n",
        "\n",
        "First, import the Building dataset that is stored on github and print the first 10 rows of data. The data is stored in a CSV file for which the path is given in the cell below."
      ]
    },
    {
      "cell_type": "markdown",
      "source": [
        "##Import Data"
      ],
      "metadata": {
        "id": "5h02amGnfP2i"
      }
    },
    {
      "cell_type": "code",
      "metadata": {
        "id": "oWmt7-Ye7RY8"
      },
      "source": [
        "data_url='https://raw.githubusercontent.com/StevenXJiang/ISEN370/main/VU_Building_Data_for_ISEN370_Spr_2020.csv?token=ATX4K2JD7Q2UQAH4KW5VFJTAPW3LQ'\n",
        "data = pd.read_csv(data_url)"
      ],
      "execution_count": null,
      "outputs": []
    },
    {
      "cell_type": "markdown",
      "metadata": {
        "id": "OuQsOoEnlBNm"
      },
      "source": []
    },
    {
      "cell_type": "markdown",
      "metadata": {
        "id": "PM69GHhR67pA"
      },
      "source": [
        "## Exploring Data\n",
        "dataframe has a head() function that can be used to get the first n rows. By default, it will select the first 5 records.\n",
        "<br>\n",
        "Note we named our dataframe as data. Therefore, we will need to use data.head(10) to retrieve the first 10 rows."
      ]
    },
    {
      "cell_type": "code",
      "metadata": {
        "id": "zdwkCZlR_ssb"
      },
      "source": [
        "data.head(10)"
      ],
      "execution_count": null,
      "outputs": []
    },
    {
      "cell_type": "markdown",
      "metadata": {
        "id": "10krY0x-k8Nq"
      },
      "source": [
        "We can select specific feature columns which we are interested in more than others. This process is called feature selection and is an important part of the data analysis process as we may have data for features which are unimportant or have a negative impact on the accuracy of the model. <br>For example, in this demo project, let's try selecting information about Outside Air Temperature, Outside Air Relative Humidity, and Solar Irradiation. Note, these feature names need to be put in quotation marks.\n",
        "<br>\n",
        "To do so, simply specify the columns that you would like to select. Then, display the first 5 rows."
      ]
    },
    {
      "cell_type": "code",
      "metadata": {
        "id": "5ZJHNvHJH8sR",
        "colab": {
          "base_uri": "https://localhost:8080/",
          "height": 206
        },
        "outputId": "b1b9e7ea-41db-4070-fbf3-49752dbc16f8"
      },
      "source": [
        "features = data[['Outside Air Temperature', 'Outside Air Relative Humidity', 'Solar Irradiation']]\n",
        "features.head()"
      ],
      "execution_count": null,
      "outputs": [
        {
          "output_type": "execute_result",
          "data": {
            "text/plain": [
              "   Outside Air Temperature  Outside Air Relative Humidity  Solar Irradiation\n",
              "0                74.948134                      45.975163              652.0\n",
              "1                72.712222                      58.188965            40175.0\n",
              "2                77.303218                      50.842554            28088.0\n",
              "3                79.858004                      47.440794              147.0\n",
              "4                67.272050                      80.017084              855.0"
            ],
            "text/html": [
              "\n",
              "  <div id=\"df-29e20a38-f293-45ad-8d08-9a637c978305\">\n",
              "    <div class=\"colab-df-container\">\n",
              "      <div>\n",
              "<style scoped>\n",
              "    .dataframe tbody tr th:only-of-type {\n",
              "        vertical-align: middle;\n",
              "    }\n",
              "\n",
              "    .dataframe tbody tr th {\n",
              "        vertical-align: top;\n",
              "    }\n",
              "\n",
              "    .dataframe thead th {\n",
              "        text-align: right;\n",
              "    }\n",
              "</style>\n",
              "<table border=\"1\" class=\"dataframe\">\n",
              "  <thead>\n",
              "    <tr style=\"text-align: right;\">\n",
              "      <th></th>\n",
              "      <th>Outside Air Temperature</th>\n",
              "      <th>Outside Air Relative Humidity</th>\n",
              "      <th>Solar Irradiation</th>\n",
              "    </tr>\n",
              "  </thead>\n",
              "  <tbody>\n",
              "    <tr>\n",
              "      <th>0</th>\n",
              "      <td>74.948134</td>\n",
              "      <td>45.975163</td>\n",
              "      <td>652.0</td>\n",
              "    </tr>\n",
              "    <tr>\n",
              "      <th>1</th>\n",
              "      <td>72.712222</td>\n",
              "      <td>58.188965</td>\n",
              "      <td>40175.0</td>\n",
              "    </tr>\n",
              "    <tr>\n",
              "      <th>2</th>\n",
              "      <td>77.303218</td>\n",
              "      <td>50.842554</td>\n",
              "      <td>28088.0</td>\n",
              "    </tr>\n",
              "    <tr>\n",
              "      <th>3</th>\n",
              "      <td>79.858004</td>\n",
              "      <td>47.440794</td>\n",
              "      <td>147.0</td>\n",
              "    </tr>\n",
              "    <tr>\n",
              "      <th>4</th>\n",
              "      <td>67.272050</td>\n",
              "      <td>80.017084</td>\n",
              "      <td>855.0</td>\n",
              "    </tr>\n",
              "  </tbody>\n",
              "</table>\n",
              "</div>\n",
              "      <button class=\"colab-df-convert\" onclick=\"convertToInteractive('df-29e20a38-f293-45ad-8d08-9a637c978305')\"\n",
              "              title=\"Convert this dataframe to an interactive table.\"\n",
              "              style=\"display:none;\">\n",
              "        \n",
              "  <svg xmlns=\"http://www.w3.org/2000/svg\" height=\"24px\"viewBox=\"0 0 24 24\"\n",
              "       width=\"24px\">\n",
              "    <path d=\"M0 0h24v24H0V0z\" fill=\"none\"/>\n",
              "    <path d=\"M18.56 5.44l.94 2.06.94-2.06 2.06-.94-2.06-.94-.94-2.06-.94 2.06-2.06.94zm-11 1L8.5 8.5l.94-2.06 2.06-.94-2.06-.94L8.5 2.5l-.94 2.06-2.06.94zm10 10l.94 2.06.94-2.06 2.06-.94-2.06-.94-.94-2.06-.94 2.06-2.06.94z\"/><path d=\"M17.41 7.96l-1.37-1.37c-.4-.4-.92-.59-1.43-.59-.52 0-1.04.2-1.43.59L10.3 9.45l-7.72 7.72c-.78.78-.78 2.05 0 2.83L4 21.41c.39.39.9.59 1.41.59.51 0 1.02-.2 1.41-.59l7.78-7.78 2.81-2.81c.8-.78.8-2.07 0-2.86zM5.41 20L4 18.59l7.72-7.72 1.47 1.35L5.41 20z\"/>\n",
              "  </svg>\n",
              "      </button>\n",
              "      \n",
              "  <style>\n",
              "    .colab-df-container {\n",
              "      display:flex;\n",
              "      flex-wrap:wrap;\n",
              "      gap: 12px;\n",
              "    }\n",
              "\n",
              "    .colab-df-convert {\n",
              "      background-color: #E8F0FE;\n",
              "      border: none;\n",
              "      border-radius: 50%;\n",
              "      cursor: pointer;\n",
              "      display: none;\n",
              "      fill: #1967D2;\n",
              "      height: 32px;\n",
              "      padding: 0 0 0 0;\n",
              "      width: 32px;\n",
              "    }\n",
              "\n",
              "    .colab-df-convert:hover {\n",
              "      background-color: #E2EBFA;\n",
              "      box-shadow: 0px 1px 2px rgba(60, 64, 67, 0.3), 0px 1px 3px 1px rgba(60, 64, 67, 0.15);\n",
              "      fill: #174EA6;\n",
              "    }\n",
              "\n",
              "    [theme=dark] .colab-df-convert {\n",
              "      background-color: #3B4455;\n",
              "      fill: #D2E3FC;\n",
              "    }\n",
              "\n",
              "    [theme=dark] .colab-df-convert:hover {\n",
              "      background-color: #434B5C;\n",
              "      box-shadow: 0px 1px 3px 1px rgba(0, 0, 0, 0.15);\n",
              "      filter: drop-shadow(0px 1px 2px rgba(0, 0, 0, 0.3));\n",
              "      fill: #FFFFFF;\n",
              "    }\n",
              "  </style>\n",
              "\n",
              "      <script>\n",
              "        const buttonEl =\n",
              "          document.querySelector('#df-29e20a38-f293-45ad-8d08-9a637c978305 button.colab-df-convert');\n",
              "        buttonEl.style.display =\n",
              "          google.colab.kernel.accessAllowed ? 'block' : 'none';\n",
              "\n",
              "        async function convertToInteractive(key) {\n",
              "          const element = document.querySelector('#df-29e20a38-f293-45ad-8d08-9a637c978305');\n",
              "          const dataTable =\n",
              "            await google.colab.kernel.invokeFunction('convertToInteractive',\n",
              "                                                     [key], {});\n",
              "          if (!dataTable) return;\n",
              "\n",
              "          const docLinkHtml = 'Like what you see? Visit the ' +\n",
              "            '<a target=\"_blank\" href=https://colab.research.google.com/notebooks/data_table.ipynb>data table notebook</a>'\n",
              "            + ' to learn more about interactive tables.';\n",
              "          element.innerHTML = '';\n",
              "          dataTable['output_type'] = 'display_data';\n",
              "          await google.colab.output.renderOutput(dataTable, element);\n",
              "          const docLink = document.createElement('div');\n",
              "          docLink.innerHTML = docLinkHtml;\n",
              "          element.appendChild(docLink);\n",
              "        }\n",
              "      </script>\n",
              "    </div>\n",
              "  </div>\n",
              "  "
            ]
          },
          "metadata": {},
          "execution_count": 3
        }
      ]
    },
    {
      "cell_type": "markdown",
      "metadata": {
        "id": "RklW1Ll47aoQ"
      },
      "source": [
        "## Statistics Calculation\n",
        "\n",
        "It is common to explore a data set by calculating and printing some of the basic statistics for each of the features of the dataset. The common statistics include mean, range, and standard deviation.<br>\n",
        "There are many ways to get the basic statistics. One simple way is to use the desribe(). <br>\n",
        "### pandas.dataframe.describe()\n",
        "The describe() method is used for calculating statistics such as percentile, mean and std of the numerical values of the Series or DataFrame. \n",
        "### other pandas datafrmae functions\n",
        "\tFunction\tDescription \n",
        "\tcount()\t  Number of non-null observations\n",
        "\tsum()\t    Sum of values\n",
        "\tmean()\t  Mean of Values\n",
        "\tmedian()\tMedian of Values\n",
        "\tmode()\t  Mode of values\n",
        "\tstd()\t    Standard Deviation of the Values\n",
        "\tmin()\t    Minimum Value\n",
        "\tmax()\t    Maximum Value\n",
        "\tabs()\t    Absolute Value\n",
        "\tprod()\t  Product of Values\n",
        "\tcumsum()\tCumulative Sum\n",
        "\tcumprod()\tCumulative Product"
      ]
    },
    {
      "cell_type": "markdown",
      "source": [
        "For example, to get the basic statistics for the dataframe we created for the features (we named it as features), we can use features.describe()."
      ],
      "metadata": {
        "id": "uUgPVtb_jJUu"
      }
    },
    {
      "cell_type": "code",
      "metadata": {
        "id": "XJYaSUJ7HC-4",
        "colab": {
          "base_uri": "https://localhost:8080/",
          "height": 294
        },
        "outputId": "d9115093-2ec1-40ff-a98b-1d6f0e0ac33f"
      },
      "source": [
        "features.describe()"
      ],
      "execution_count": null,
      "outputs": [
        {
          "output_type": "execute_result",
          "data": {
            "text/html": [
              "<div>\n",
              "<style scoped>\n",
              "    .dataframe tbody tr th:only-of-type {\n",
              "        vertical-align: middle;\n",
              "    }\n",
              "\n",
              "    .dataframe tbody tr th {\n",
              "        vertical-align: top;\n",
              "    }\n",
              "\n",
              "    .dataframe thead th {\n",
              "        text-align: right;\n",
              "    }\n",
              "</style>\n",
              "<table border=\"1\" class=\"dataframe\">\n",
              "  <thead>\n",
              "    <tr style=\"text-align: right;\">\n",
              "      <th></th>\n",
              "      <th>Outside Air Temperature</th>\n",
              "      <th>Outside Air Relative Humidity</th>\n",
              "      <th>Solar Irradiation</th>\n",
              "    </tr>\n",
              "  </thead>\n",
              "  <tbody>\n",
              "    <tr>\n",
              "      <th>count</th>\n",
              "      <td>491.000000</td>\n",
              "      <td>491.000000</td>\n",
              "      <td>491.000000</td>\n",
              "    </tr>\n",
              "    <tr>\n",
              "      <th>mean</th>\n",
              "      <td>77.227680</td>\n",
              "      <td>58.920863</td>\n",
              "      <td>19683.346232</td>\n",
              "    </tr>\n",
              "    <tr>\n",
              "      <th>std</th>\n",
              "      <td>7.880355</td>\n",
              "      <td>13.978720</td>\n",
              "      <td>20296.603728</td>\n",
              "    </tr>\n",
              "    <tr>\n",
              "      <th>min</th>\n",
              "      <td>48.864128</td>\n",
              "      <td>25.592493</td>\n",
              "      <td>44.000000</td>\n",
              "    </tr>\n",
              "    <tr>\n",
              "      <th>25%</th>\n",
              "      <td>72.426728</td>\n",
              "      <td>48.324007</td>\n",
              "      <td>630.000000</td>\n",
              "    </tr>\n",
              "    <tr>\n",
              "      <th>50%</th>\n",
              "      <td>77.568599</td>\n",
              "      <td>58.295772</td>\n",
              "      <td>11742.000000</td>\n",
              "    </tr>\n",
              "    <tr>\n",
              "      <th>75%</th>\n",
              "      <td>83.033853</td>\n",
              "      <td>70.274889</td>\n",
              "      <td>41343.051725</td>\n",
              "    </tr>\n",
              "    <tr>\n",
              "      <th>max</th>\n",
              "      <td>92.889009</td>\n",
              "      <td>88.612658</td>\n",
              "      <td>58728.326850</td>\n",
              "    </tr>\n",
              "  </tbody>\n",
              "</table>\n",
              "</div>"
            ],
            "text/plain": [
              "       Outside Air Temperature  ...  Solar Irradiation\n",
              "count               491.000000  ...         491.000000\n",
              "mean                 77.227680  ...       19683.346232\n",
              "std                   7.880355  ...       20296.603728\n",
              "min                  48.864128  ...          44.000000\n",
              "25%                  72.426728  ...         630.000000\n",
              "50%                  77.568599  ...       11742.000000\n",
              "75%                  83.033853  ...       41343.051725\n",
              "max                  92.889009  ...       58728.326850\n",
              "\n",
              "[8 rows x 3 columns]"
            ]
          },
          "metadata": {
            "tags": []
          },
          "execution_count": 26
        }
      ]
    },
    {
      "cell_type": "markdown",
      "metadata": {
        "id": "aHvdhLAp8JwS"
      },
      "source": [
        "#Graphs and plots\n",
        "Graphical representations are important ways to describe the data. Common tools include histogram, scatter plot, and box lot.\n",
        "## Histogram Plotting\n",
        "matplotlib.pyplot.hist() Function<br>\n",
        "The hist() function in pyplot module of matplotlib library is used to plot a histogram.\n",
        "\n",
        "Syntax: matplotlib.pyplot.hist(x, bins=None, range=None, density=False, weights=None, cumulative=False, bottom=None, histtype=’bar’, align=’mid’, orientation=’vertical’, rwidth=None, log=False, color=None, label=None, stacked=False, \\*, data=None, \\*\\*kwargs)\n",
        "\n",
        "matplotlib.pyplot.hist() Function\n",
        "The hist() function in pyplot module of matplotlib library is used to plot a histogram.\n",
        "\n",
        "Syntax: matplotlib.pyplot.hist(x, bins=None, range=None, density=False, weights=None, cumulative=False, bottom=None, histtype=’bar’, align=’mid’, orientation=’vertical’, rwidth=None, log=False, color=None, label=None, stacked=False, \\*, data=None, \\*\\*kwargs)\n",
        "\n",
        "x : This parameter are the sequence of data.<BR>\n",
        "bins : This parameter is an optional parameter and it contains the integer or sequence or string.<BR>\n",
        "range : This parameter is an optional parameter and it the lower and upper range of the bins.<BR>\n",
        "density : This parameter is an optional parameter and it contains the boolean values.<BR>\n",
        "weights : This parameter is an optional parameter and it is an array of weights, of the same shape as x.<BR>\n",
        "bottom : This parameter is the location of the bottom baseline of each bin.\n",
        "histtype : This parameter is an optional parameter and it is used to draw type of histogram. {‘bar’, ‘barstacked’, ‘step’, ‘stepfilled’}<BR>\n",
        "align : This parameter is an optional parameter and it controls how the histogram is plotted. {‘left’, ‘mid’, ‘right’}<BR>\n",
        "rwidth : This parameter is an optional parameter and it is a relative width of the bars as a fraction of the bin width<BR>\n",
        "log : This parameter is an optional parameter and it is used to set histogram axis to a log scale<BR>\n",
        "color : This parameter is an optional parameter and it is a color spec or sequence of color specs, one per dataset.<BR>\n",
        "label : This parameter is an optional parameter and it is a string, or sequence of strings to match multiple datasets.<BR>\n",
        "normed : This parameter is an optional parameter and it contains the boolean values.It uses the density keyword argument instead.<BR>\n",
        "\n",
        "Returns: This returns the following:\n",
        "\n",
        "n :This returns the values of the histogram bins.<BR>\n",
        "bins :This returns the edges of the bins.<BR>\n",
        "patches :This returns the list of individual patches used to create the histogram.\n",
        "# Create Histogram for the demo project\n",
        "\n",
        "We can also plot some of these features using Pandas and Matplotlib. Lets first try plotting some histograms.\n",
        "Plot a histogram for each of the features of the dataset. Be sure to include proper titles and axis labels on each of your plots."
      ]
    },
    {
      "cell_type": "code",
      "metadata": {
        "id": "D5TXXDg58Wwn",
        "colab": {
          "base_uri": "https://localhost:8080/",
          "height": 281
        },
        "outputId": "5b5b8141-c4cc-467d-97bc-57ff16f8658d"
      },
      "source": [
        "features.hist()\n",
        "plt.show()"
      ],
      "execution_count": null,
      "outputs": [
        {
          "output_type": "display_data",
          "data": {
            "image/png": "[encoded data removed]",
            "text/plain": [
              "<Figure size 432x288 with 4 Axes>"
            ]
          },
          "metadata": {
            "tags": [],
            "needs_background": "light"
          }
        }
      ]
    },
    {
      "cell_type": "markdown",
      "source": [
        "We can also specify a feature to plot a histogram by adding the name of the feature in the parentheses."
      ],
      "metadata": {
        "id": "UEtD_WAWiXs3"
      }
    },
    {
      "cell_type": "code",
      "metadata": {
        "colab": {
          "base_uri": "https://localhost:8080/",
          "height": 295
        },
        "id": "v3vErKQQJY8T",
        "outputId": "7f31e277-15c5-41b3-be0d-f55ce0662e44"
      },
      "source": [
        "plt.hist(features['Outside Air Temperature'])\n",
        "plt.ylabel('Frequency')\n",
        "plt.xlabel(\"Outside Air Temperature \\N{DEGREE SIGN}F\")\n",
        "plt.title('Outside Air Temperature')\n",
        "plt.show()"
      ],
      "execution_count": null,
      "outputs": [
        {
          "output_type": "display_data",
          "data": {
            "image/png": "[encoded data removed]",
            "text/plain": [
              "<Figure size 432x288 with 1 Axes>"
            ]
          },
          "metadata": {
            "tags": [],
            "needs_background": "light"
          }
        }
      ]
    },
    {
      "cell_type": "code",
      "metadata": {
        "colab": {
          "base_uri": "https://localhost:8080/",
          "height": 295
        },
        "id": "wOzz0q2NKk66",
        "outputId": "9e33c727-4324-493c-bbd9-fca166c0d692"
      },
      "source": [
        "plt.hist(features['Outside Air Relative Humidity'])\n",
        "plt.ylabel('Frequency')\n",
        "plt.xlabel(\"Outside Air Relative Humidity\")\n",
        "plt.title('Outside Air Relative Humidity')\n",
        "plt.show()"
      ],
      "execution_count": null,
      "outputs": [
        {
          "output_type": "display_data",
          "data": {
            "image/png": "[encoded data removed]",
            "text/plain": [
              "<Figure size 432x288 with 1 Axes>"
            ]
          },
          "metadata": {
            "tags": [],
            "needs_background": "light"
          }
        }
      ]
    },
    {
      "cell_type": "code",
      "metadata": {
        "id": "t5cs6VfkSNxk",
        "colab": {
          "base_uri": "https://localhost:8080/",
          "height": 295
        },
        "outputId": "5f0b3521-02ca-4a00-e0fa-46760776ac2a"
      },
      "source": [
        "plt.hist(features['Solar Irradiation'])\n",
        "plt.ylabel('Frequency')\n",
        "plt.xlabel(\"Solar Irradiation\")\n",
        "plt.title('Outside Air Relative Humidity')\n",
        "plt.show()"
      ],
      "execution_count": null,
      "outputs": [
        {
          "output_type": "display_data",
          "data": {
            "image/png": "[encoded data removed]",
            "text/plain": [
              "<Figure size 432x288 with 1 Axes>"
            ]
          },
          "metadata": {
            "tags": [],
            "needs_background": "light"
          }
        }
      ]
    },
    {
      "cell_type": "markdown",
      "source": [
        "<b>matplotlib.pyplot.scatter() Function</b><br>\n",
        "matplotlib.pyplot.scatter(x, y, s=None, c=None, marker=None, cmap=None, norm=None, vmin=None, vmax=None, alpha=None, linewidths=None, *, edgecolors=None, plotnonfinite=False, data=None, **kwargs)<br>\n",
        "A scatter plot of y vs. x with varying marker size and/or color.\n",
        "\n",
        "Parameters:\n",
        "x, yfloat or array-like, shape (n, )\n",
        "The data positions.\n",
        "\n",
        "sfloat or array-like, shape (n, ), optional\n",
        "The marker size in points**2 (typographic points are 1/72 in.). Default is rcParams['lines.markersize'] ** 2.\n",
        "\n",
        "carray-like or list of colors or color, optional\n",
        "The marker colors. Possible values:\n",
        "\n",
        "A scalar or sequence of n numbers to be mapped to colors using cmap and norm.\n",
        "\n",
        "A 2D array in which the rows are RGB or RGBA.\n",
        "\n",
        "A sequence of colors of length n.\n",
        "\n",
        "A single color format string.\n",
        "\n",
        "Note that c should not be a single numeric RGB or RGBA sequence because that is indistinguishable from an array of values to be colormapped. If you want to specify the same RGB or RGBA value for all points, use a 2D array with a single row. Otherwise, value- matching will have precedence in case of a size matching with x and y.\n",
        "\n",
        "If you wish to specify a single color for all points prefer the color keyword argument.\n",
        "\n",
        "Defaults to None. In that case the marker color is determined by the value of color, facecolor or facecolors. In case those are not specified or None, the marker color is determined by the next color of the Axes' current \"shape and fill\" color cycle. This cycle defaults to rcParams[\"axes.prop_cycle\"] (default: cycler('color', ['#1f77b4', '#ff7f0e', '#2ca02c', '#d62728', '#9467bd', '#8c564b', '#e377c2', '#7f7f7f', '#bcbd22', '#17becf'])).\n",
        "\n",
        "markerMarkerStyle, default: rcParams[\"scatter.marker\"] (default: 'o')\n",
        "The marker style. marker can be either an instance of the class or the text shorthand for a particular marker. See matplotlib.markers for more information about marker styles.\n",
        "\n",
        "cmapstr or Colormap, default: rcParams[\"image.cmap\"] (default: 'viridis')\n",
        "The Colormap instance or registered colormap name used to map scalar data to colors.\n",
        "\n",
        "This parameter is ignored if c is RGB(A).\n",
        "\n",
        "normstr or Normalize, optional\n",
        "The normalization method used to scale scalar data to the [0, 1] range before mapping to colors using cmap. By default, a linear scaling is used, mapping the lowest value to 0 and the highest to 1.\n",
        "\n",
        "If given, this can be one of the following:\n",
        "\n",
        "An instance of Normalize or one of its subclasses (see Colormap Normalization).\n",
        "\n",
        "A scale name, i.e. one of \"linear\", \"log\", \"symlog\", \"logit\", etc. For a list of available scales, call matplotlib.scale.get_scale_names(). In that case, a suitable Normalize subclass is dynamically generated and instantiated.\n",
        "\n",
        "This parameter is ignored if c is RGB(A).\n",
        "\n",
        "vmin, vmaxfloat, optional\n",
        "When using scalar data and no explicit norm, vmin and vmax define the data range that the colormap covers. By default, the colormap covers the complete value range of the supplied data. It is an error to use vmin/vmax when a norm instance is given (but using a str norm name together with vmin/vmax is acceptable).\n",
        "\n",
        "This parameter is ignored if c is RGB(A).\n",
        "\n",
        "alphafloat, default: None\n",
        "The alpha blending value, between 0 (transparent) and 1 (opaque).\n",
        "\n",
        "linewidthsfloat or array-like, default: rcParams[\"lines.linewidth\"] (default: 1.5)\n",
        "The linewidth of the marker edges. Note: The default edgecolors is 'face'. You may want to change this as well.\n",
        "\n",
        "edgecolors{'face', 'none', None} or color or sequence of color, default: rcParams[\"scatter.edgecolors\"] (default: 'face')\n",
        "The edge color of the marker. Possible values:\n",
        "\n",
        "'face': The edge color will always be the same as the face color.\n",
        "\n",
        "'none': No patch boundary will be drawn.\n",
        "\n",
        "A color or sequence of colors.\n",
        "\n",
        "For non-filled markers, edgecolors is ignored. Instead, the color is determined like with 'face', i.e. from c, colors, or facecolors.\n",
        "\n",
        "plotnonfinitebool, default: False\n",
        "Whether to plot points with nonfinite c (i.e. inf, -inf or nan). If True the points are drawn with the bad colormap color (see Colormap.set_bad)."
      ],
      "metadata": {
        "id": "a_8sYdcSjRwv"
      }
    },
    {
      "cell_type": "markdown",
      "source": [
        "Another simpler way to construct scatter plot is to use matplotlib.pyplot.plot fucntion.<br>\n",
        "<b>matplotlib.pyplot.plot</b><br>\n",
        "Plot y versus x as lines and/or markers.<br>\n",
        "matplotlib.pyplot.plot(*args, scalex=True, scaley=True, data=None, **kwargs)<br>\n",
        "\n",
        "Parameters:<br>\n",
        "x, yarray-like or scalar\n",
        "The horizontal / vertical coordinates of the data points. x values are optional and default to range(len(y)).\n",
        "\n",
        "Commonly, these parameters are 1D arrays.\n",
        "\n",
        "They can also be scalars, or two-dimensional (in that case, the columns represent separate data sets).\n",
        "\n",
        "These arguments cannot be passed as keywords.\n",
        "\n",
        "fmtstr, optional<br>\n",
        "A format string, e.g. 'ro' for red circles. See the Notes section for a full description of the format strings.\n",
        "\n",
        "Format strings are just an abbreviation for quickly setting basic line properties. All of these and more can also be controlled by keyword arguments.\n",
        "\n",
        "This argument cannot be passed as keyword.\n",
        "\n",
        "dataindexable object, optional <br>\n",
        "An object with labelled data. If given, provide the label names to plot in x and y.<br>\n",
        "\n",
        "plot(x, y)        # plot x and y using default line style and color <br>\n",
        "\n",
        "There's a convenient way for plotting objects with labelled data (i.e. data that can be accessed by index obj['y']). Instead of giving the data in x and y, you can provide the object in the data parameter and just give the labels for x and y:<br>\n",
        "plot('xlabel', 'ylabel', data=obj)"
      ],
      "metadata": {
        "id": "eDqU_MzfkRr7"
      }
    },
    {
      "cell_type": "markdown",
      "metadata": {
        "id": "N-Ysc1rLUEE5"
      },
      "source": [
        "## Scatter Plot "
      ]
    },
    {
      "cell_type": "code",
      "metadata": {
        "id": "HlTnAR2PUIJf",
        "colab": {
          "base_uri": "https://localhost:8080/",
          "height": 279
        },
        "outputId": "82667614-b954-4142-c2b1-d120e0372187"
      },
      "source": [
        "plt.scatter(data['Time'], data['Outside Air Temperature'], s=6)\n",
        "plt.xlabel(\"Time\")\n",
        "plt.ylabel(\"Outside Air Temperature \\N{DEGREE SIGN}F\")\n",
        "plt.show()"
      ],
      "execution_count": null,
      "outputs": [
        {
          "output_type": "display_data",
          "data": {
            "text/plain": [
              "<Figure size 432x288 with 1 Axes>"
            ],
            "image/png": "[encoded data removed]"
          },
          "metadata": {
            "needs_background": "light"
          }
        }
      ]
    },
    {
      "cell_type": "code",
      "metadata": {
        "id": "k9xb4DxHUuZg",
        "colab": {
          "base_uri": "https://localhost:8080/",
          "height": 279
        },
        "outputId": "66213c42-21c8-4da0-8174-db3079382a6f"
      },
      "source": [
        "plt.scatter(data['Time'], data['Outside Air Relative Humidity'], s=6)\n",
        "plt.xlabel(\"Time\")\n",
        "plt.ylabel(\"Outside Air Relative Humidity\")\n",
        "plt.show()"
      ],
      "execution_count": null,
      "outputs": [
        {
          "output_type": "display_data",
          "data": {
            "image/png": "[encoded data removed]",
            "text/plain": [
              "<Figure size 432x288 with 1 Axes>"
            ]
          },
          "metadata": {
            "tags": [],
            "needs_background": "light"
          }
        }
      ]
    },
    {
      "cell_type": "code",
      "metadata": {
        "id": "R_Z11ZpxU-Dc",
        "colab": {
          "base_uri": "https://localhost:8080/",
          "height": 279
        },
        "outputId": "a4672ee8-f870-4065-f3e4-11215e953124"
      },
      "source": [
        "plt.scatter(data['Time'], data['Solar Irradiation'], s=6)\n",
        "plt.xlabel(\"Time\")\n",
        "plt.ylabel(\"Solar Irradiation\")\n",
        "plt.show()"
      ],
      "execution_count": null,
      "outputs": [
        {
          "output_type": "display_data",
          "data": {
            "image/png": "[encoded data removed]",
            "text/plain": [
              "<Figure size 432x288 with 1 Axes>"
            ]
          },
          "metadata": {
            "tags": [],
            "needs_background": "light"
          }
        }
      ]
    },
    {
      "cell_type": "markdown",
      "source": [
        "Using plt.plot() funciton to generate the same scatter plot.<br>\n",
        "Note: linestyle='None' removes the lines and marker='.' shows the scattered points.<br>\n",
        "To display the temperature sign, we will need to use \\N{DEGREE SIGN}F."
      ],
      "metadata": {
        "id": "IpM7370Wn2R9"
      }
    },
    {
      "cell_type": "code",
      "source": [
        "plt.plot(data['Time'], data['Outside Air Temperature'], linestyle='None',marker='.')\n",
        "plt.xlabel(\"Time\")\n",
        "plt.ylabel(\"Outside Air Temperature \\N{DEGREE SIGN}F\")"
      ],
      "metadata": {
        "id": "z5e4tUbiluBH",
        "outputId": "fa5c9e25-ad93-48f6-8047-271b9833a0d0",
        "colab": {
          "base_uri": "https://localhost:8080/",
          "height": 296
        }
      },
      "execution_count": null,
      "outputs": [
        {
          "output_type": "execute_result",
          "data": {
            "text/plain": [
              "Text(0, 0.5, 'Outside Air Temperature °F')"
            ]
          },
          "metadata": {},
          "execution_count": 10
        },
        {
          "output_type": "display_data",
          "data": {
            "text/plain": [
              "<Figure size 432x288 with 1 Axes>"
            ],
            "image/png": "[encoded data removed]"
          },
          "metadata": {
            "needs_background": "light"
          }
        }
      ]
    },
    {
      "cell_type": "markdown",
      "source": [
        "Python has many powerful tools to allow you explore your data from calculting basic statistics to explore the data visually. Data exploration allows you to have a better sense of the data including better understanding of the features (variables), any unusal data points (outliers), and any patterns and relationship among the variables. It will allow you to better navigate and use the data for other analysis."
      ],
      "metadata": {
        "id": "HLn67bQ6pdZN"
      }
    }
  ]
}